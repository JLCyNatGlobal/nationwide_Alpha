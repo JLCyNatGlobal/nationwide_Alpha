{
  "nbformat": 4,
  "nbformat_minor": 0,
  "metadata": {
    "colab": {
      "provenance": []
    },
    "kernelspec": {
      "name": "python3",
      "display_name": "Python 3"
    },
    "language_info": {
      "name": "python"
    }
  },
  "cells": [
    {
      "cell_type": "code",
      "source": [
        "import pandas as pd\n",
        "\n",
        "# Define the translation dictionary\n",
        "translation_dict = {\n",
        "    \"车架号\": \"Vehicle Identification Number (VIN)\",\n",
        "    \"姓名\": \"Name\",\n",
        "    \"身份证\": \"ID Card\",\n",
        "    \"性别\": \"Gender\",\n",
        "    \"手机\": \"Mobile Phone\",\n",
        "    \"邮箱\": \"Email\",\n",
        "    \"省\": \"Province\",\n",
        "    \"城市\": \"City\",\n",
        "    \"地址\": \"Address\",\n",
        "    \"邮编\": \"Postal Code\",\n",
        "    \"生日\": \"Date of Birth\",\n",
        "    \"行业\": \"Industry\",\n",
        "    \"月薪\": \"Monthly Salary\",\n",
        "    \"婚姻\": \"Marital Status\",\n",
        "    \"教育\": \"Education\",\n",
        "    \"BRAND\": \"Brand\",\n",
        "    \"车系\": \"Vehicle Series\",\n",
        "    \"车型\": \"Vehicle Model\",\n",
        "    \"配置\": \"Configuration\",\n",
        "    \"颜色\": \"Color\",\n",
        "    \"发动机号\": \"Engine Number\"\n",
        "}\n",
        "\n",
        "# File path\n",
        "file_path = \"/content/760k-Car-Owners-Nationwide-China-csv-2020.csv\"\n",
        "\n",
        "# Read the CSV file\n",
        "df = pd.read_csv(file_path)\n",
        "\n",
        "# Rename the columns using the translation dictionary\n",
        "df.rename(columns=translation_dict, inplace=True, errors=\"raise\")\n",
        "# errors=\"raise\" will cause an error if a key in translation_dict is not found\n",
        "\n",
        "# Save the modified DataFrame to a new CSV file named 'CleanNationwide.csv'\n",
        "output_file_path = \"/content/CleanNationwide.csv\"\n",
        "df.to_csv(output_file_path, index=False)\n",
        "\n",
        "print(f\"Translated CSV saved to {output_file_path}\")\n",
        "\n",
        "# Display the first 5 rows of the translated DataFrame\n",
        "print(\"\\nFirst 5 rows of the updated CSV:\")\n",
        "print(df.head())"
      ],
      "metadata": {
        "colab": {
          "base_uri": "https://localhost:8080/"
        },
        "id": "E8UMMk46RbNt",
        "outputId": "3ec621c4-4b65-48d4-f09a-4ba6ad73fc9a"
      },
      "execution_count": 57,
      "outputs": [
        {
          "output_type": "stream",
          "name": "stderr",
          "text": [
            "<ipython-input-57-fc45c1581f54>:32: DtypeWarning: Columns (4) have mixed types. Specify dtype option on import or set low_memory=False.\n",
            "  df = pd.read_csv(file_path)\n"
          ]
        },
        {
          "output_type": "stream",
          "name": "stdout",
          "text": [
            "Translated CSV saved to /content/CleanNationwide.csv\n",
            "\n",
            "First 5 rows of the updated CSV:\n",
            "  Vehicle Identification Number (VIN) Name             ID Card Gender  \\\n",
            "0                   LSGLP84X2DF248935  马宏刚  432326197709250132      男   \n",
            "1                   LSGSA52M7ED215740   杨威  42060619860917201X      男   \n",
            "2                   LSGPB54U4ED067501   袁凯  342901199203026435      男   \n",
            "3                   LSGPC54U4EF169771  陈博天  420625198711290070      男   \n",
            "4                   LSGGF53W3EH096133   徐彬  110106197711301514      男   \n",
            "\n",
            "  Mobile Phone                Email Province City               Address  \\\n",
            "0  13873752623     534260098@qq.com      湖南省  益阳市       湖南省安化县东坪镇杨溪路31号   \n",
            "1  15605965992  15605965992@163.com      湖北省  武汉市         武汉市洪山区鲁磨路485号   \n",
            "2  18301866904  tongtu96818@126.com      上海市  上海市        上海市闵行区中春路1500号   \n",
            "3  18838133331  18838133331@139.com      河南省  郑州市  河南省郑州市商鼎路107附道向东200米   \n",
            "4  13801274963  13801274963@126.com      北京市  北京市      北京市丰台区卢沟桥五里店336号   \n",
            "\n",
            "   Postal Code  ... Monthly Salary Marital Status Education Brand  \\\n",
            "0     413000.0  ...       50000元以上             已婚        大专   雪佛兰   \n",
            "1     430000.0  ...     6000－9999元             已婚        大专   雪佛兰   \n",
            "2     201109.0  ...     6000－9999元             未婚        大专    别克   \n",
            "3     450000.0  ...     3000－5999元             未婚        大专   雪佛兰   \n",
            "4     100070.0  ...   20000－24999元             已婚        大本    别克   \n",
            "\n",
            "  Vehicle Series      Vehicle Model                             Configuration  \\\n",
            "0        科帕奇 CKD  科帕奇 C140  CKD 2.4  Captiva 2.4 LT AWD(Comfort)(5seat) 13含附件   \n",
            "1          新赛欧三厢           新赛欧三厢豪华型                       新赛欧三厢1.4MT幸福III版 14   \n",
            "2          英朗 GT           英朗 GT GL                        英朗 GT 1.6L手动进取型 14   \n",
            "3          科鲁兹三厢           科鲁兹三厢 SE                        科鲁兹三厢 1.6 SE MT 14   \n",
            "4           全新君越            全新君越 GL           全新君越 2.4L SIDI 精英舒适型(加热)(棕红) 14   \n",
            "\n",
            "                            Color   Engine Number Unnamed: 21  \n",
            "0                     晶石黑;耀石黑;旷夜黑  LE9*140800786*              \n",
            "1  珍珠白;幻白;象牙白;茉莉白;雪域白;闪电白;流光白;皓沙白  LCU*D83120897*              \n",
            "2                             卡其金  LDE*140021440*              \n",
            "3  珍珠白;幻白;象牙白;茉莉白;雪域白;闪电白;流光白;皓沙白  LDE*141090863*              \n",
            "4               墨玉黑;元黑;炫黑;钢琴黑;爵士黑  LAF*140370116*              \n",
            "\n",
            "[5 rows x 22 columns]\n"
          ]
        }
      ]
    },
    {
      "cell_type": "code",
      "source": [
        "# prompt: # prompt: # prompt: using the file CleanNationwide.csv \"  apply the code columns_to_drop = [\n",
        "# # # \"行业\": \"Industry\",\n",
        "# # #     \"月薪\": \"Monthly Salary\",\n",
        "# # #     \"婚姻\": \"Marital Status\",\n",
        "# # #     \"教育\": \"Education\",\n",
        "# # #     \"BRAND\": \"Brand\",\n",
        "# # #     \"车系\": \"Vehicle Series\",\n",
        "# # #     \"车型\": \"Vehicle Model\",\n",
        "# # #     \"配置\": \"Configuration\",\n",
        "# # #     \"颜色\": \"Color\",\n",
        "# # #     \"发动机号\": \"Engine Number\".'Unnamed: 21'\n",
        "# # # # ]   extract the columns and place in a new csv dropColumns.csv and update \"/content/CleanNationwide.csv print first 5 rows of CleanNationwide.csv with dropped columns\n",
        "\n",
        "import pandas as pd\n",
        "\n",
        "# Columns to drop\n",
        "columns_to_drop = [\n",
        "    \"Industry\",\n",
        "    \"Monthly Salary\",\n",
        "    \"Marital Status\",\n",
        "    \"Education\",\n",
        "    \"Brand\",\n",
        "    \"Vehicle Series\",\n",
        "    \"Vehicle Model\",\n",
        "    \"Configuration\",\n",
        "    \"Color\",\n",
        "    \"Engine Number\",\n",
        "    'Unnamed: 21'\n",
        "]\n",
        "\n",
        "# Read the CSV file\n",
        "df = pd.read_csv('/content/CleanNationwide.csv')\n",
        "\n",
        "# Check if all columns to drop exist in the DataFrame\n",
        "columns_to_drop = [col for col in columns_to_drop if col in df.columns]\n",
        "\n",
        "# Drop the specified columns\n",
        "df = df.drop(columns=columns_to_drop)\n",
        "\n",
        "# Save the modified DataFrame back to CleanNationwide.csv (updated line)\n",
        "df.to_csv('/content/CleanNationwide.csv', index=False)\n",
        "\n",
        "# Display the first 5 rows of the DataFrame with dropped columns\n",
        "print(df.head())"
      ],
      "metadata": {
        "colab": {
          "base_uri": "https://localhost:8080/"
        },
        "id": "jPwtQuTFTONK",
        "outputId": "8687cae8-891c-42c8-e5d3-c3424224abcf"
      },
      "execution_count": 58,
      "outputs": [
        {
          "output_type": "stream",
          "name": "stderr",
          "text": [
            "<ipython-input-58-504e6d244100>:32: DtypeWarning: Columns (4) have mixed types. Specify dtype option on import or set low_memory=False.\n",
            "  df = pd.read_csv('/content/CleanNationwide.csv')\n"
          ]
        },
        {
          "output_type": "stream",
          "name": "stdout",
          "text": [
            "  Vehicle Identification Number (VIN) Name             ID Card Gender  \\\n",
            "0                   LSGLP84X2DF248935  马宏刚  432326197709250132      男   \n",
            "1                   LSGSA52M7ED215740   杨威  42060619860917201X      男   \n",
            "2                   LSGPB54U4ED067501   袁凯  342901199203026435      男   \n",
            "3                   LSGPC54U4EF169771  陈博天  420625198711290070      男   \n",
            "4                   LSGGF53W3EH096133   徐彬  110106197711301514      男   \n",
            "\n",
            "  Mobile Phone                Email Province City               Address  \\\n",
            "0  13873752623     534260098@qq.com      湖南省  益阳市       湖南省安化县东坪镇杨溪路31号   \n",
            "1  15605965992  15605965992@163.com      湖北省  武汉市         武汉市洪山区鲁磨路485号   \n",
            "2  18301866904  tongtu96818@126.com      上海市  上海市        上海市闵行区中春路1500号   \n",
            "3  18838133331  18838133331@139.com      河南省  郑州市  河南省郑州市商鼎路107附道向东200米   \n",
            "4  13801274963  13801274963@126.com      北京市  北京市      北京市丰台区卢沟桥五里店336号   \n",
            "\n",
            "   Postal Code Date of Birth  \n",
            "0     413000.0    1977-09-25  \n",
            "1     430000.0    1986-09-17  \n",
            "2     201109.0    1992-03-02  \n",
            "3     450000.0    1987-11-29  \n",
            "4     100070.0    1977-11-30  \n"
          ]
        }
      ]
    },
    {
      "cell_type": "code",
      "source": [
        "# prompt: extract and remove duplicates from CleanNationwide.csv,\n",
        "# extract the duplicates to a new .csv called garbage1 and update the CleanNationwide.csv to reflect\n",
        "# print first 5 rows of CleanNationwide\n",
        "\n",
        "import pandas as pd\n",
        "\n",
        "# Read the CSV file\n",
        "df = pd.read_csv('/content/CleanNationwide.csv')\n",
        "\n",
        "# Find and extract duplicate rows based on all columns\n",
        "duplicates = df[df.duplicated(keep=False)]\n",
        "\n",
        "# Remove duplicate rows from the original DataFrame, keeping the first occurrence\n",
        "df_no_duplicates = df.drop_duplicates(keep='first')\n",
        "\n",
        "# Save the duplicates to a new CSV file\n",
        "duplicates.to_csv('/content/garbage1.csv', index=False)\n",
        "\n",
        "# Save the updated DataFrame (without duplicates) back to the original file\n",
        "df_no_duplicates.to_csv('/content/CleanNationwide.csv', index=False)\n",
        "\n",
        "# Display the first 5 rows of the updated DataFrame\n",
        "print(df_no_duplicates.head())"
      ],
      "metadata": {
        "colab": {
          "base_uri": "https://localhost:8080/"
        },
        "id": "yEM5vJbbWzPk",
        "outputId": "3fdcb8fb-93fc-42d8-ac40-e7dcc3085edd"
      },
      "execution_count": 59,
      "outputs": [
        {
          "output_type": "stream",
          "name": "stderr",
          "text": [
            "<ipython-input-59-278bceaceacd>:8: DtypeWarning: Columns (4) have mixed types. Specify dtype option on import or set low_memory=False.\n",
            "  df = pd.read_csv('/content/CleanNationwide.csv')\n"
          ]
        },
        {
          "output_type": "stream",
          "name": "stdout",
          "text": [
            "  Vehicle Identification Number (VIN) Name             ID Card Gender  \\\n",
            "0                   LSGLP84X2DF248935  马宏刚  432326197709250132      男   \n",
            "1                   LSGSA52M7ED215740   杨威  42060619860917201X      男   \n",
            "2                   LSGPB54U4ED067501   袁凯  342901199203026435      男   \n",
            "3                   LSGPC54U4EF169771  陈博天  420625198711290070      男   \n",
            "4                   LSGGF53W3EH096133   徐彬  110106197711301514      男   \n",
            "\n",
            "  Mobile Phone                Email Province City               Address  \\\n",
            "0  13873752623     534260098@qq.com      湖南省  益阳市       湖南省安化县东坪镇杨溪路31号   \n",
            "1  15605965992  15605965992@163.com      湖北省  武汉市         武汉市洪山区鲁磨路485号   \n",
            "2  18301866904  tongtu96818@126.com      上海市  上海市        上海市闵行区中春路1500号   \n",
            "3  18838133331  18838133331@139.com      河南省  郑州市  河南省郑州市商鼎路107附道向东200米   \n",
            "4  13801274963  13801274963@126.com      北京市  北京市      北京市丰台区卢沟桥五里店336号   \n",
            "\n",
            "   Postal Code Date of Birth  \n",
            "0     413000.0    1977-09-25  \n",
            "1     430000.0    1986-09-17  \n",
            "2     201109.0    1992-03-02  \n",
            "3     450000.0    1987-11-29  \n",
            "4     100070.0    1977-11-30  \n"
          ]
        }
      ]
    },
    {
      "cell_type": "code",
      "source": [
        "# prompt: # prompt: using the file CleanNationwide.csv\" ensure the columns are as follow\n",
        "# # Postal Code float\n",
        "# # Date of Birth yyyy-mm-dd\n",
        "# # Mobile Phone Int\n",
        "# # VIN String\n",
        "# # check Email for invalid email adresses and extract entire column to garbage2.csv\n",
        "# # keep all other data as is\n",
        "# # update the CleanNationwide.csv file\n",
        "\n",
        "import pandas as pd\n",
        "import re\n",
        "\n",
        "# Load the updated CSV file\n",
        "df = pd.read_csv('/content/CleanNationwide.csv')\n",
        "\n",
        "# 1. Data Type Conversion and Validation\n",
        "# Postal Code: Convert to float, handle errors gracefully\n",
        "df['Postal Code'] = pd.to_numeric(df['Postal Code'], errors='coerce')\n",
        "\n",
        "# Date of Birth: Convert to datetime, handle invalid formats\n",
        "try:\n",
        "    df['Date of Birth'] = pd.to_datetime(df['Date of Birth'], format='%Y-%m-%d', errors='coerce')\n",
        "except ValueError as e:\n",
        "    print(f\"Error converting 'Date of Birth': {e}\")\n",
        "\n",
        "# Mobile Phone: Convert to integer, handle errors gracefully\n",
        "df['Mobile Phone'] = pd.to_numeric(df['Mobile Phone'], errors='coerce').astype('Int64')  # Use 'Int64' for nullable integers\n",
        "\n",
        "# VIN: Ensure it's a string\n",
        "df['Vehicle Identification Number (VIN)'] = df['Vehicle Identification Number (VIN)'].astype(str)\n",
        "\n",
        "# 2. Email Validation and Extraction to garbage2.csv\n",
        "def is_valid_email(email):\n",
        "    # Regular expression for basic email validation\n",
        "    pattern = r\"^[a-zA-Z0-9._%+-]+@[a-zA-Z0-9.-]+\\.[a-zA-Z]{2,}$\"\n",
        "    # Check if email is a string and not null before applying regex\n",
        "    if isinstance(email, str) and email:  # Check if email is a non-empty string\n",
        "        return bool(re.fullmatch(pattern, email))\n",
        "    else:\n",
        "        return False  # Return False for non-string or empty values\n",
        "\n",
        "# Identify invalid emails\n",
        "invalid_emails_df = df[~df['Email'].apply(is_valid_email)]\n",
        "\n",
        "# Extract invalid emails to 'garbage2.csv'\n",
        "invalid_emails_df.to_csv('/content/garbage2.csv', index=False)\n",
        "\n",
        "# Remove rows with invalid emails from the main dataframe\n",
        "df = df[df['Email'].apply(is_valid_email)]\n",
        "\n",
        "# 3. Save the updated DataFrame\n",
        "df.to_csv('/content/CleanNationwide.csv', index=False)\n",
        "\n",
        "print(df.head())"
      ],
      "metadata": {
        "colab": {
          "base_uri": "https://localhost:8080/"
        },
        "id": "6ZidbdkwC8QZ",
        "outputId": "d69ee97d-61c9-48b8-9efc-68f074752022"
      },
      "execution_count": 60,
      "outputs": [
        {
          "output_type": "stream",
          "name": "stderr",
          "text": [
            "<ipython-input-60-e10b3b630c70>:14: DtypeWarning: Columns (4) have mixed types. Specify dtype option on import or set low_memory=False.\n",
            "  df = pd.read_csv('/content/CleanNationwide.csv')\n"
          ]
        },
        {
          "output_type": "stream",
          "name": "stdout",
          "text": [
            "  Vehicle Identification Number (VIN) Name             ID Card Gender  \\\n",
            "0                   LSGLP84X2DF248935  马宏刚  432326197709250132      男   \n",
            "1                   LSGSA52M7ED215740   杨威  42060619860917201X      男   \n",
            "2                   LSGPB54U4ED067501   袁凯  342901199203026435      男   \n",
            "3                   LSGPC54U4EF169771  陈博天  420625198711290070      男   \n",
            "4                   LSGGF53W3EH096133   徐彬  110106197711301514      男   \n",
            "\n",
            "   Mobile Phone                Email Province City               Address  \\\n",
            "0   13873752623     534260098@qq.com      湖南省  益阳市       湖南省安化县东坪镇杨溪路31号   \n",
            "1   15605965992  15605965992@163.com      湖北省  武汉市         武汉市洪山区鲁磨路485号   \n",
            "2   18301866904  tongtu96818@126.com      上海市  上海市        上海市闵行区中春路1500号   \n",
            "3   18838133331  18838133331@139.com      河南省  郑州市  河南省郑州市商鼎路107附道向东200米   \n",
            "4   13801274963  13801274963@126.com      北京市  北京市      北京市丰台区卢沟桥五里店336号   \n",
            "\n",
            "   Postal Code Date of Birth  \n",
            "0     413000.0    1977-09-25  \n",
            "1     430000.0    1986-09-17  \n",
            "2     201109.0    1992-03-02  \n",
            "3     450000.0    1987-11-29  \n",
            "4     100070.0    1977-11-30  \n"
          ]
        }
      ]
    },
    {
      "cell_type": "code",
      "source": [
        "import pandas as pd\n",
        "import numpy as np\n",
        "\n",
        "# Read the updated CSV file, importing 'Mobile Phone' as string\n",
        "df = pd.read_csv('/content/CleanNationwide.csv', dtype={'Mobile Phone': str})\n",
        "\n",
        "# Print the first 5 rows of CleanNationwide.csv\n",
        "print(df.head(5))"
      ],
      "metadata": {
        "id": "cnM3BajifM4H",
        "colab": {
          "base_uri": "https://localhost:8080/"
        },
        "outputId": "7dbc8b85-ec4e-4757-f4b2-d8becd702a3b"
      },
      "execution_count": 61,
      "outputs": [
        {
          "output_type": "stream",
          "name": "stdout",
          "text": [
            "  Vehicle Identification Number (VIN) Name             ID Card Gender  \\\n",
            "0                   LSGLP84X2DF248935  马宏刚  432326197709250132      男   \n",
            "1                   LSGSA52M7ED215740   杨威  42060619860917201X      男   \n",
            "2                   LSGPB54U4ED067501   袁凯  342901199203026435      男   \n",
            "3                   LSGPC54U4EF169771  陈博天  420625198711290070      男   \n",
            "4                   LSGGF53W3EH096133   徐彬  110106197711301514      男   \n",
            "\n",
            "  Mobile Phone                Email Province City               Address  \\\n",
            "0  13873752623     534260098@qq.com      湖南省  益阳市       湖南省安化县东坪镇杨溪路31号   \n",
            "1  15605965992  15605965992@163.com      湖北省  武汉市         武汉市洪山区鲁磨路485号   \n",
            "2  18301866904  tongtu96818@126.com      上海市  上海市        上海市闵行区中春路1500号   \n",
            "3  18838133331  18838133331@139.com      河南省  郑州市  河南省郑州市商鼎路107附道向东200米   \n",
            "4  13801274963  13801274963@126.com      北京市  北京市      北京市丰台区卢沟桥五里店336号   \n",
            "\n",
            "   Postal Code Date of Birth  \n",
            "0     413000.0    1977-09-25  \n",
            "1     430000.0    1986-09-17  \n",
            "2     201109.0    1992-03-02  \n",
            "3     450000.0    1987-11-29  \n",
            "4     100070.0    1977-11-30  \n"
          ]
        }
      ]
    },
    {
      "cell_type": "code",
      "source": [
        "# prompt: # merge garbage1 and 2 into a new .csv called garbageNationwide.csv\n",
        "# # prompt: print 5 rows from CleanNationwide and print 5 rows of garbageNationwide\n",
        "# # Assuming CleanNationwide.csv and garbageNationwide.csv are already created\n",
        "\n",
        "import pandas as pd\n",
        "\n",
        "# Merge garbage1.csv and garbage2.csv\n",
        "try:\n",
        "    garbage1_df = pd.read_csv('/content/garbage1.csv')\n",
        "    garbage2_df = pd.read_csv('/content/garbage2.csv')\n",
        "\n",
        "    # Before concatenation, remove columns with all NA values\n",
        "    garbage1_df = garbage1_df.dropna(axis=1, how='all')\n",
        "    garbage2_df = garbage2_df.dropna(axis=1, how='all')\n",
        "\n",
        "    garbageNationwide_df = pd.concat([garbage1_df, garbage2_df], ignore_index=True)\n",
        "    garbageNationwide_df.to_csv('/content/garbageNationwide.csv', index=False)\n",
        "    print(\"Successfully merged garbage1.csv and garbage2.csv into garbageNationwide.csv\")\n",
        "except FileNotFoundError:\n",
        "    print(\"One or both of garbage1.csv or garbage2.csv not found.\")\n",
        "except Exception as e:\n",
        "    print(f\"An error occurred during merging: {e}\")"
      ],
      "metadata": {
        "colab": {
          "base_uri": "https://localhost:8080/"
        },
        "id": "O3K8a6-MQls3",
        "outputId": "22a98eed-9a24-422e-c414-c3cde7225a65"
      },
      "execution_count": 62,
      "outputs": [
        {
          "output_type": "stream",
          "name": "stdout",
          "text": [
            "Successfully merged garbage1.csv and garbage2.csv into garbageNationwide.csv\n"
          ]
        }
      ]
    }
  ]
}